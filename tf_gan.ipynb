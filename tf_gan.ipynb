{
 "cells": [
  {
   "cell_type": "markdown",
   "id": "southwest-valuable",
   "metadata": {},
   "source": [
    "## GAN"
   ]
  },
  {
   "cell_type": "code",
   "execution_count": 1,
   "id": "multiple-prisoner",
   "metadata": {},
   "outputs": [],
   "source": [
    "import matplotlib.pyplot as plt\n",
    "import numpy as np\n",
    "import tensorflow as tf"
   ]
  },
  {
   "cell_type": "code",
   "execution_count": 2,
   "id": "imperial-recovery",
   "metadata": {},
   "outputs": [
    {
     "name": "stdout",
     "output_type": "stream",
     "text": [
      "WARNING:tensorflow:From <ipython-input-2-1b9e9c7674f9>:2: read_data_sets (from tensorflow.contrib.learn.python.learn.datasets.mnist) is deprecated and will be removed in a future version.\n",
      "Instructions for updating:\n",
      "Please use alternatives such as official/mnist/dataset.py from tensorflow/models.\n",
      "WARNING:tensorflow:From /Users/dipang/.tf1/lib/python3.7/site-packages/tensorflow_core/contrib/learn/python/learn/datasets/mnist.py:260: maybe_download (from tensorflow.contrib.learn.python.learn.datasets.base) is deprecated and will be removed in a future version.\n",
      "Instructions for updating:\n",
      "Please write your own downloading logic.\n",
      "WARNING:tensorflow:From /Users/dipang/.tf1/lib/python3.7/site-packages/tensorflow_core/contrib/learn/python/learn/datasets/mnist.py:262: extract_images (from tensorflow.contrib.learn.python.learn.datasets.mnist) is deprecated and will be removed in a future version.\n",
      "Instructions for updating:\n",
      "Please use tf.data to implement this functionality.\n",
      "Extracting ../03-Convolutional-Neural-Networks/MNIST_data/train-images-idx3-ubyte.gz\n",
      "WARNING:tensorflow:From /Users/dipang/.tf1/lib/python3.7/site-packages/tensorflow_core/contrib/learn/python/learn/datasets/mnist.py:267: extract_labels (from tensorflow.contrib.learn.python.learn.datasets.mnist) is deprecated and will be removed in a future version.\n",
      "Instructions for updating:\n",
      "Please use tf.data to implement this functionality.\n",
      "Extracting ../03-Convolutional-Neural-Networks/MNIST_data/train-labels-idx1-ubyte.gz\n",
      "WARNING:tensorflow:From /Users/dipang/.tf1/lib/python3.7/site-packages/tensorflow_core/contrib/learn/python/learn/datasets/mnist.py:110: dense_to_one_hot (from tensorflow.contrib.learn.python.learn.datasets.mnist) is deprecated and will be removed in a future version.\n",
      "Instructions for updating:\n",
      "Please use tf.one_hot on tensors.\n",
      "Extracting ../03-Convolutional-Neural-Networks/MNIST_data/t10k-images-idx3-ubyte.gz\n",
      "Extracting ../03-Convolutional-Neural-Networks/MNIST_data/t10k-labels-idx1-ubyte.gz\n",
      "WARNING:tensorflow:From /Users/dipang/.tf1/lib/python3.7/site-packages/tensorflow_core/contrib/learn/python/learn/datasets/mnist.py:290: DataSet.__init__ (from tensorflow.contrib.learn.python.learn.datasets.mnist) is deprecated and will be removed in a future version.\n",
      "Instructions for updating:\n",
      "Please use alternatives such as official/mnist/dataset.py from tensorflow/models.\n"
     ]
    }
   ],
   "source": [
    "from tensorflow.examples.tutorials.mnist import input_data\n",
    "mnist = input_data.read_data_sets(\"./MNIST_data/\",one_hot=True)"
   ]
  },
  {
   "cell_type": "code",
   "execution_count": 3,
   "id": "christian-nutrition",
   "metadata": {},
   "outputs": [
    {
     "data": {
      "text/plain": [
       "<matplotlib.image.AxesImage at 0x1490cf2b0>"
      ]
     },
     "execution_count": 3,
     "metadata": {},
     "output_type": "execute_result"
    },
    {
     "data": {
      "image/png": "[encoded data removed]",
      "text/plain": [
       "<Figure size 432x288 with 1 Axes>"
      ]
     },
     "metadata": {
      "needs_background": "light"
     },
     "output_type": "display_data"
    }
   ],
   "source": [
    "plt.imshow(mnist.train.images[5].reshape(28,28),cmap='Greys')"
   ]
  },
  {
   "cell_type": "markdown",
   "id": "formed-milton",
   "metadata": {},
   "source": [
    "## The Networks"
   ]
  },
  {
   "cell_type": "markdown",
   "id": "split-estate",
   "metadata": {},
   "source": [
    "### The Generator"
   ]
  },
  {
   "cell_type": "code",
   "execution_count": 4,
   "id": "ranging-brain",
   "metadata": {},
   "outputs": [],
   "source": [
    "N = 784\n",
    "nz = 100"
   ]
  },
  {
   "cell_type": "code",
   "execution_count": 5,
   "id": "hourly-launch",
   "metadata": {},
   "outputs": [],
   "source": [
    "def generator(z, reuse=None):\n",
    "    with tf.variable_scope('gen', reuse=reuse):\n",
    "        hidden1 = tf.layers.dense(inputs=z, units=128)\n",
    "        \n",
    "        # tf.nn.leaky_relu\n",
    "        alpha = 0.01\n",
    "        hidden1 = tf.maximum(alpha * hidden1, hidden1)\n",
    "        \n",
    "        # second layer\n",
    "        hidden2 = tf.layers.dense(inputs=hidden1, units=128)\n",
    "        hidden2 = tf.maximum(alpha * hidden2, hidden2)\n",
    "        \n",
    "        #\n",
    "        output = tf.layers.dense(inputs=hidden2, units=N)\n",
    "        # activation\n",
    "        output = tf.nn.tanh(output)\n",
    "        \n",
    "        return output"
   ]
  },
  {
   "cell_type": "markdown",
   "id": "available-porcelain",
   "metadata": {},
   "source": [
    "## The discriminator"
   ]
  },
  {
   "cell_type": "code",
   "execution_count": 6,
   "id": "banned-brook",
   "metadata": {},
   "outputs": [],
   "source": [
    "def discriminator(X, reuse=None):\n",
    "    with tf.variable_scope('dis', reuse=reuse):\n",
    "        \n",
    "        # number of units ??\n",
    "        hidden1 = tf.layers.dense(inputs=X, units=128)\n",
    "        \n",
    "        # tf.nn.leaky_relu\n",
    "        alpha = 0.01\n",
    "        hidden1 = tf.maximum(alpha * hidden1, hidden1)\n",
    "        \n",
    "        # second layer\n",
    "        hidden2 = tf.layers.dense(inputs=hidden1, units=128)\n",
    "        hidden2 = tf.maximum(alpha * hidden2, hidden2)\n",
    "        \n",
    "        #\n",
    "        logits = tf.layers.dense(inputs=hidden2, units=1)\n",
    "        # activation\n",
    "        output = tf.nn.sigmoid(logits)\n",
    "        \n",
    "        return output, logits"
   ]
  },
  {
   "cell_type": "code",
   "execution_count": 7,
   "id": "quick-elevation",
   "metadata": {},
   "outputs": [],
   "source": [
    "tf.reset_default_graph()"
   ]
  },
  {
   "cell_type": "markdown",
   "id": "standard-soundtrack",
   "metadata": {},
   "source": [
    "### Placerholder for images and noise"
   ]
  },
  {
   "cell_type": "code",
   "execution_count": 8,
   "id": "grand-indianapolis",
   "metadata": {},
   "outputs": [],
   "source": [
    "real_images = tf.placeholder(tf.float32, shape=(None, N))\n",
    "\n",
    "# 100 or 128\n",
    "z = tf.placeholder(tf.float32, shape=(None, nz))"
   ]
  },
  {
   "cell_type": "markdown",
   "id": "cheap-halloween",
   "metadata": {},
   "source": [
    "## Generator"
   ]
  },
  {
   "cell_type": "code",
   "execution_count": 9,
   "id": "effective-centre",
   "metadata": {},
   "outputs": [
    {
     "name": "stdout",
     "output_type": "stream",
     "text": [
      "WARNING:tensorflow:From <ipython-input-5-94890bc0d79d>:3: dense (from tensorflow.python.layers.core) is deprecated and will be removed in a future version.\n",
      "Instructions for updating:\n",
      "Use keras.layers.Dense instead.\n",
      "WARNING:tensorflow:From /Users/dipang/.tf1/lib/python3.7/site-packages/tensorflow_core/python/layers/core.py:187: Layer.apply (from tensorflow.python.keras.engine.base_layer) is deprecated and will be removed in a future version.\n",
      "Instructions for updating:\n",
      "Please use `layer.__call__` method instead.\n"
     ]
    }
   ],
   "source": [
    "G = generator(z)"
   ]
  },
  {
   "cell_type": "markdown",
   "id": "close-tracker",
   "metadata": {},
   "source": [
    "## Discriminator\n",
    "### Training on real images first!"
   ]
  },
  {
   "cell_type": "code",
   "execution_count": 10,
   "id": "handed-multimedia",
   "metadata": {},
   "outputs": [],
   "source": [
    "D_output_real, D_logits_real = discriminator(real_images)"
   ]
  },
  {
   "cell_type": "markdown",
   "id": "varying-beach",
   "metadata": {},
   "source": [
    "### Running discrimator twice, reuse variables"
   ]
  },
  {
   "cell_type": "code",
   "execution_count": 11,
   "id": "motivated-faculty",
   "metadata": {},
   "outputs": [],
   "source": [
    "D_output_fake, D_logits_fake = discriminator(G, reuse=True)"
   ]
  },
  {
   "cell_type": "markdown",
   "id": "secondary-philippines",
   "metadata": {},
   "source": [
    "## Losses (helper function)"
   ]
  },
  {
   "cell_type": "code",
   "execution_count": 12,
   "id": "assured-entertainment",
   "metadata": {},
   "outputs": [],
   "source": [
    "def loss_func(logits_in, labels_in):\n",
    "    return tf.reduce_mean(tf.nn.sigmoid_cross_entropy_with_logits(logits=logits_in, labels=labels_in))"
   ]
  },
  {
   "cell_type": "markdown",
   "id": "noticed-horizon",
   "metadata": {},
   "source": [
    "### discriminator loss when trained on real data\n",
    "\n",
    "### (target is not class but real or not)"
   ]
  },
  {
   "cell_type": "code",
   "execution_count": 13,
   "id": "national-newton",
   "metadata": {},
   "outputs": [
    {
     "name": "stdout",
     "output_type": "stream",
     "text": [
      "WARNING:tensorflow:From /Users/dipang/.tf1/lib/python3.7/site-packages/tensorflow_core/python/ops/nn_impl.py:183: where (from tensorflow.python.ops.array_ops) is deprecated and will be removed in a future version.\n",
      "Instructions for updating:\n",
      "Use tf.where in 2.0, which has the same broadcast rule as np.where\n"
     ]
    }
   ],
   "source": [
    "# same shape tensor. Half Real and Half Fake?\n",
    "# add smoothing, make discriminator genearlize better\n",
    "\n",
    "smoothing_factor = 0.9\n",
    "D_real_loss = loss_func(logits_in=D_logits_real, labels_in=tf.ones_like(D_logits_real) * smoothing_factor)\n",
    "\n",
    "# fake\n",
    "# no smoothing_factor = ?? \n",
    "D_fake_loss = loss_func(logits_in=D_logits_fake, labels_in=tf.zeros_like(D_logits_fake))"
   ]
  },
  {
   "cell_type": "code",
   "execution_count": 14,
   "id": "weighted-identity",
   "metadata": {},
   "outputs": [],
   "source": [
    "D_loss = D_real_loss + D_fake_loss"
   ]
  },
  {
   "cell_type": "markdown",
   "id": "played-battlefield",
   "metadata": {},
   "source": [
    "## Generator loss\n",
    "\n",
    "## flip label"
   ]
  },
  {
   "cell_type": "code",
   "execution_count": 15,
   "id": "tired-coordinate",
   "metadata": {},
   "outputs": [],
   "source": [
    "G_loss = loss_func(logits_in=D_logits_fake, labels_in=tf.ones_like(D_logits_fake))"
   ]
  },
  {
   "cell_type": "markdown",
   "id": "accredited-syndication",
   "metadata": {},
   "source": [
    "## Optimizer"
   ]
  },
  {
   "cell_type": "code",
   "execution_count": 16,
   "id": "juvenile-wealth",
   "metadata": {},
   "outputs": [],
   "source": [
    "learning_rate = 1e-3"
   ]
  },
  {
   "cell_type": "markdown",
   "id": "persistent-keeping",
   "metadata": {},
   "source": [
    "### one optimzer for each (discriminator, generator)\n",
    "\n",
    "### -> collection variables first"
   ]
  },
  {
   "cell_type": "code",
   "execution_count": 17,
   "id": "rational-arkansas",
   "metadata": {},
   "outputs": [
    {
     "name": "stdout",
     "output_type": "stream",
     "text": [
      "['dis/dense/kernel:0', 'dis/dense/bias:0', 'dis/dense_1/kernel:0', 'dis/dense_1/bias:0', 'dis/dense_2/kernel:0', 'dis/dense_2/bias:0']\n"
     ]
    }
   ],
   "source": [
    "tvars = tf.trainable_variables()\n",
    "\n",
    "d_vars = [var for var in tvars if 'dis' in var.name]\n",
    "g_vars = [var for var in tvars if 'gen' in var.name]\n",
    "\n",
    "print([v.name for v in d_vars])"
   ]
  },
  {
   "cell_type": "code",
   "execution_count": 18,
   "id": "activated-austin",
   "metadata": {},
   "outputs": [],
   "source": [
    "D_trainer = tf.train.AdamOptimizer(learning_rate=learning_rate).minimize(D_loss, var_list=d_vars)"
   ]
  },
  {
   "cell_type": "code",
   "execution_count": 19,
   "id": "earlier-heath",
   "metadata": {},
   "outputs": [],
   "source": [
    "G_trainer =  tf.train.AdamOptimizer(learning_rate=learning_rate).minimize(G_loss, var_list=g_vars)"
   ]
  },
  {
   "cell_type": "code",
   "execution_count": 20,
   "id": "alive-month",
   "metadata": {},
   "outputs": [
    {
     "data": {
      "text/plain": [
       "[<tf.Variable 'dis/dense/kernel:0' shape=(784, 128) dtype=float32_ref>,\n",
       " <tf.Variable 'dis/dense/bias:0' shape=(128,) dtype=float32_ref>,\n",
       " <tf.Variable 'dis/dense_1/kernel:0' shape=(128, 128) dtype=float32_ref>,\n",
       " <tf.Variable 'dis/dense_1/bias:0' shape=(128,) dtype=float32_ref>,\n",
       " <tf.Variable 'dis/dense_2/kernel:0' shape=(128, 1) dtype=float32_ref>,\n",
       " <tf.Variable 'dis/dense_2/bias:0' shape=(1,) dtype=float32_ref>]"
      ]
     },
     "execution_count": 20,
     "metadata": {},
     "output_type": "execute_result"
    }
   ],
   "source": [
    "d_vars"
   ]
  },
  {
   "cell_type": "markdown",
   "id": "nuclear-operator",
   "metadata": {},
   "source": [
    "## Training Session"
   ]
  },
  {
   "cell_type": "code",
   "execution_count": 21,
   "id": "african-ordering",
   "metadata": {},
   "outputs": [],
   "source": [
    "## parameters\n",
    "batch_sz = 100"
   ]
  },
  {
   "cell_type": "code",
   "execution_count": 22,
   "id": "noble-madrid",
   "metadata": {},
   "outputs": [],
   "source": [
    "X_train = mnist.train.images\n",
    "n_batches = len(X_train) // batch_sz"
   ]
  },
  {
   "cell_type": "markdown",
   "id": "dirty-zoning",
   "metadata": {},
   "source": [
    "### Reshape and Rescale images\n",
    "from (0, 1) to (-1, 1), to be consistant with tanh activation function of the generator"
   ]
  },
  {
   "cell_type": "code",
   "execution_count": 23,
   "id": "looking-syndicate",
   "metadata": {},
   "outputs": [
    {
     "data": {
      "text/plain": [
       "(100, 784)"
      ]
     },
     "execution_count": 23,
     "metadata": {},
     "output_type": "execute_result"
    }
   ],
   "source": [
    "X1 = X_train[:batch_sz]\n",
    "X1.shape"
   ]
  },
  {
   "cell_type": "code",
   "execution_count": 24,
   "id": "incident-agent",
   "metadata": {},
   "outputs": [
    {
     "data": {
      "text/plain": [
       "1.0"
      ]
     },
     "execution_count": 24,
     "metadata": {},
     "output_type": "execute_result"
    }
   ],
   "source": [
    "X1.max()"
   ]
  },
  {
   "cell_type": "code",
   "execution_count": 25,
   "id": "numerical-pakistan",
   "metadata": {},
   "outputs": [],
   "source": [
    "X_train = X_train * 2 - 1"
   ]
  },
  {
   "cell_type": "code",
   "execution_count": 26,
   "id": "homeless-groove",
   "metadata": {},
   "outputs": [],
   "source": [
    "## initializer"
   ]
  },
  {
   "cell_type": "code",
   "execution_count": 27,
   "id": "cultural-washington",
   "metadata": {},
   "outputs": [],
   "source": [
    "init = tf.global_variables_initializer()\n",
    "saver = tf.train.Saver(var_list=g_vars)"
   ]
  },
  {
   "cell_type": "code",
   "execution_count": 28,
   "id": "working-happening",
   "metadata": {},
   "outputs": [],
   "source": [
    "epochs = 500\n",
    "samples = []"
   ]
  },
  {
   "cell_type": "code",
   "execution_count": 29,
   "id": "shaped-texas",
   "metadata": {},
   "outputs": [
    {
     "name": "stdout",
     "output_type": "stream",
     "text": [
      "On epoch 0 / 500\n",
      "On epoch 1 / 500\n",
      "On epoch 2 / 500\n",
      "On epoch 3 / 500\n",
      "On epoch 4 / 500\n",
      "On epoch 5 / 500\n",
      "On epoch 6 / 500\n",
      "On epoch 7 / 500\n",
      "On epoch 8 / 500\n",
      "On epoch 9 / 500\n",
      "On epoch 10 / 500\n",
      "On epoch 11 / 500\n",
      "On epoch 12 / 500\n",
      "On epoch 13 / 500\n",
      "On epoch 14 / 500\n",
      "On epoch 15 / 500\n",
      "On epoch 16 / 500\n",
      "On epoch 17 / 500\n",
      "On epoch 18 / 500\n",
      "On epoch 19 / 500\n",
      "On epoch 20 / 500\n",
      "On epoch 21 / 500\n",
      "On epoch 22 / 500\n",
      "On epoch 23 / 500\n",
      "On epoch 24 / 500\n",
      "On epoch 25 / 500\n",
      "On epoch 26 / 500\n",
      "On epoch 27 / 500\n",
      "On epoch 28 / 500\n",
      "On epoch 29 / 500\n",
      "On epoch 30 / 500\n",
      "On epoch 31 / 500\n",
      "On epoch 32 / 500\n",
      "On epoch 33 / 500\n",
      "On epoch 34 / 500\n",
      "On epoch 35 / 500\n",
      "On epoch 36 / 500\n",
      "On epoch 37 / 500\n",
      "On epoch 38 / 500\n",
      "On epoch 39 / 500\n",
      "On epoch 40 / 500\n",
      "On epoch 41 / 500\n",
      "On epoch 42 / 500\n",
      "On epoch 43 / 500\n",
      "On epoch 44 / 500\n",
      "On epoch 45 / 500\n",
      "On epoch 46 / 500\n",
      "On epoch 47 / 500\n",
      "On epoch 48 / 500\n",
      "On epoch 49 / 500\n",
      "On epoch 50 / 500\n",
      "On epoch 51 / 500\n",
      "On epoch 52 / 500\n",
      "On epoch 53 / 500\n",
      "On epoch 54 / 500\n",
      "On epoch 55 / 500\n",
      "On epoch 56 / 500\n",
      "On epoch 57 / 500\n",
      "On epoch 58 / 500\n",
      "On epoch 59 / 500\n",
      "On epoch 60 / 500\n",
      "On epoch 61 / 500\n",
      "On epoch 62 / 500\n",
      "On epoch 63 / 500\n",
      "On epoch 64 / 500\n",
      "On epoch 65 / 500\n",
      "On epoch 66 / 500\n",
      "On epoch 67 / 500\n",
      "On epoch 68 / 500\n",
      "On epoch 69 / 500\n",
      "On epoch 70 / 500\n",
      "On epoch 71 / 500\n",
      "On epoch 72 / 500\n",
      "On epoch 73 / 500\n",
      "On epoch 74 / 500\n",
      "On epoch 75 / 500\n",
      "On epoch 76 / 500\n",
      "On epoch 77 / 500\n",
      "On epoch 78 / 500\n",
      "On epoch 79 / 500\n",
      "On epoch 80 / 500\n",
      "On epoch 81 / 500\n",
      "On epoch 82 / 500\n",
      "On epoch 83 / 500\n",
      "On epoch 84 / 500\n",
      "On epoch 85 / 500\n",
      "On epoch 86 / 500\n",
      "On epoch 87 / 500\n",
      "On epoch 88 / 500\n",
      "On epoch 89 / 500\n",
      "On epoch 90 / 500\n",
      "On epoch 91 / 500\n",
      "On epoch 92 / 500\n",
      "On epoch 93 / 500\n",
      "On epoch 94 / 500\n",
      "On epoch 95 / 500\n",
      "On epoch 96 / 500\n",
      "On epoch 97 / 500\n",
      "On epoch 98 / 500\n",
      "On epoch 99 / 500\n",
      "On epoch 100 / 500\n",
      "On epoch 101 / 500\n",
      "On epoch 102 / 500\n",
      "On epoch 103 / 500\n",
      "On epoch 104 / 500\n",
      "On epoch 105 / 500\n",
      "On epoch 106 / 500\n",
      "On epoch 107 / 500\n",
      "On epoch 108 / 500\n",
      "On epoch 109 / 500\n",
      "On epoch 110 / 500\n",
      "On epoch 111 / 500\n",
      "On epoch 112 / 500\n",
      "On epoch 113 / 500\n",
      "On epoch 114 / 500\n",
      "On epoch 115 / 500\n",
      "On epoch 116 / 500\n",
      "On epoch 117 / 500\n",
      "On epoch 118 / 500\n",
      "On epoch 119 / 500\n",
      "On epoch 120 / 500\n",
      "On epoch 121 / 500\n",
      "On epoch 122 / 500\n",
      "On epoch 123 / 500\n",
      "On epoch 124 / 500\n",
      "On epoch 125 / 500\n",
      "On epoch 126 / 500\n",
      "On epoch 127 / 500\n",
      "On epoch 128 / 500\n",
      "On epoch 129 / 500\n",
      "On epoch 130 / 500\n",
      "On epoch 131 / 500\n",
      "On epoch 132 / 500\n",
      "On epoch 133 / 500\n",
      "On epoch 134 / 500\n",
      "On epoch 135 / 500\n",
      "On epoch 136 / 500\n",
      "On epoch 137 / 500\n",
      "On epoch 138 / 500\n",
      "On epoch 139 / 500\n",
      "On epoch 140 / 500\n",
      "On epoch 141 / 500\n",
      "On epoch 142 / 500\n",
      "On epoch 143 / 500\n",
      "On epoch 144 / 500\n",
      "On epoch 145 / 500\n",
      "On epoch 146 / 500\n",
      "On epoch 147 / 500\n",
      "On epoch 148 / 500\n",
      "On epoch 149 / 500\n",
      "On epoch 150 / 500\n",
      "On epoch 151 / 500\n",
      "On epoch 152 / 500\n",
      "On epoch 153 / 500\n",
      "On epoch 154 / 500\n",
      "On epoch 155 / 500\n",
      "On epoch 156 / 500\n",
      "On epoch 157 / 500\n",
      "On epoch 158 / 500\n",
      "On epoch 159 / 500\n",
      "On epoch 160 / 500\n",
      "On epoch 161 / 500\n",
      "On epoch 162 / 500\n",
      "On epoch 163 / 500\n",
      "On epoch 164 / 500\n",
      "On epoch 165 / 500\n",
      "On epoch 166 / 500\n",
      "On epoch 167 / 500\n",
      "On epoch 168 / 500\n",
      "On epoch 169 / 500\n",
      "On epoch 170 / 500\n",
      "On epoch 171 / 500\n",
      "On epoch 172 / 500\n",
      "On epoch 173 / 500\n",
      "On epoch 174 / 500\n",
      "On epoch 175 / 500\n",
      "On epoch 176 / 500\n",
      "On epoch 177 / 500\n",
      "On epoch 178 / 500\n",
      "On epoch 179 / 500\n",
      "On epoch 180 / 500\n",
      "On epoch 181 / 500\n",
      "On epoch 182 / 500\n",
      "On epoch 183 / 500\n",
      "On epoch 184 / 500\n",
      "On epoch 185 / 500\n",
      "On epoch 186 / 500\n",
      "On epoch 187 / 500\n",
      "On epoch 188 / 500\n",
      "On epoch 189 / 500\n",
      "On epoch 190 / 500\n",
      "On epoch 191 / 500\n",
      "On epoch 192 / 500\n",
      "On epoch 193 / 500\n",
      "On epoch 194 / 500\n",
      "On epoch 195 / 500\n",
      "On epoch 196 / 500\n",
      "On epoch 197 / 500\n",
      "On epoch 198 / 500\n",
      "On epoch 199 / 500\n",
      "On epoch 200 / 500\n",
      "On epoch 201 / 500\n",
      "On epoch 202 / 500\n",
      "On epoch 203 / 500\n",
      "On epoch 204 / 500\n",
      "On epoch 205 / 500\n",
      "On epoch 206 / 500\n",
      "On epoch 207 / 500\n",
      "On epoch 208 / 500\n",
      "On epoch 209 / 500\n",
      "On epoch 210 / 500\n",
      "On epoch 211 / 500\n",
      "On epoch 212 / 500\n",
      "On epoch 213 / 500\n",
      "On epoch 214 / 500\n",
      "On epoch 215 / 500\n",
      "On epoch 216 / 500\n",
      "On epoch 217 / 500\n",
      "On epoch 218 / 500\n",
      "On epoch 219 / 500\n",
      "On epoch 220 / 500\n",
      "On epoch 221 / 500\n",
      "On epoch 222 / 500\n",
      "On epoch 223 / 500\n",
      "On epoch 224 / 500\n",
      "On epoch 225 / 500\n",
      "On epoch 226 / 500\n",
      "On epoch 227 / 500\n",
      "On epoch 228 / 500\n",
      "On epoch 229 / 500\n",
      "On epoch 230 / 500\n",
      "On epoch 231 / 500\n",
      "On epoch 232 / 500\n",
      "On epoch 233 / 500\n",
      "On epoch 234 / 500\n",
      "On epoch 235 / 500\n",
      "On epoch 236 / 500\n",
      "On epoch 237 / 500\n",
      "On epoch 238 / 500\n",
      "On epoch 239 / 500\n",
      "On epoch 240 / 500\n",
      "On epoch 241 / 500\n",
      "On epoch 242 / 500\n",
      "On epoch 243 / 500\n",
      "On epoch 244 / 500\n",
      "On epoch 245 / 500\n",
      "On epoch 246 / 500\n",
      "On epoch 247 / 500\n",
      "On epoch 248 / 500\n",
      "On epoch 249 / 500\n",
      "On epoch 250 / 500\n",
      "On epoch 251 / 500\n",
      "On epoch 252 / 500\n",
      "On epoch 253 / 500\n",
      "On epoch 254 / 500\n",
      "On epoch 255 / 500\n",
      "On epoch 256 / 500\n",
      "On epoch 257 / 500\n",
      "On epoch 258 / 500\n",
      "On epoch 259 / 500\n",
      "On epoch 260 / 500\n",
      "On epoch 261 / 500\n",
      "On epoch 262 / 500\n",
      "On epoch 263 / 500\n",
      "On epoch 264 / 500\n",
      "On epoch 265 / 500\n",
      "On epoch 266 / 500\n",
      "On epoch 267 / 500\n",
      "On epoch 268 / 500\n",
      "On epoch 269 / 500\n",
      "On epoch 270 / 500\n",
      "On epoch 271 / 500\n",
      "On epoch 272 / 500\n",
      "On epoch 273 / 500\n",
      "On epoch 274 / 500\n",
      "On epoch 275 / 500\n",
      "On epoch 276 / 500\n",
      "On epoch 277 / 500\n",
      "On epoch 278 / 500\n",
      "On epoch 279 / 500\n",
      "On epoch 280 / 500\n",
      "On epoch 281 / 500\n",
      "On epoch 282 / 500\n",
      "On epoch 283 / 500\n",
      "On epoch 284 / 500\n",
      "On epoch 285 / 500\n",
      "On epoch 286 / 500\n",
      "On epoch 287 / 500\n",
      "On epoch 288 / 500\n",
      "On epoch 289 / 500\n",
      "On epoch 290 / 500\n",
      "On epoch 291 / 500\n",
      "On epoch 292 / 500\n",
      "On epoch 293 / 500\n",
      "On epoch 294 / 500\n",
      "On epoch 295 / 500\n",
      "On epoch 296 / 500\n",
      "On epoch 297 / 500\n",
      "On epoch 298 / 500\n",
      "On epoch 299 / 500\n",
      "On epoch 300 / 500\n",
      "On epoch 301 / 500\n",
      "On epoch 302 / 500\n",
      "On epoch 303 / 500\n",
      "On epoch 304 / 500\n",
      "On epoch 305 / 500\n",
      "On epoch 306 / 500\n",
      "On epoch 307 / 500\n",
      "On epoch 308 / 500\n",
      "On epoch 309 / 500\n",
      "On epoch 310 / 500\n",
      "On epoch 311 / 500\n",
      "On epoch 312 / 500\n",
      "On epoch 313 / 500\n",
      "On epoch 314 / 500\n",
      "On epoch 315 / 500\n",
      "On epoch 316 / 500\n",
      "On epoch 317 / 500\n",
      "On epoch 318 / 500\n",
      "On epoch 319 / 500\n",
      "On epoch 320 / 500\n",
      "On epoch 321 / 500\n",
      "On epoch 322 / 500\n",
      "On epoch 323 / 500\n",
      "On epoch 324 / 500\n",
      "On epoch 325 / 500\n",
      "On epoch 326 / 500\n",
      "On epoch 327 / 500\n",
      "On epoch 328 / 500\n",
      "On epoch 329 / 500\n",
      "On epoch 330 / 500\n",
      "On epoch 331 / 500\n",
      "On epoch 332 / 500\n",
      "On epoch 333 / 500\n",
      "On epoch 334 / 500\n",
      "On epoch 335 / 500\n",
      "On epoch 336 / 500\n",
      "On epoch 337 / 500\n",
      "On epoch 338 / 500\n",
      "On epoch 339 / 500\n",
      "On epoch 340 / 500\n",
      "On epoch 341 / 500\n",
      "On epoch 342 / 500\n",
      "On epoch 343 / 500\n",
      "On epoch 344 / 500\n",
      "On epoch 345 / 500\n",
      "On epoch 346 / 500\n",
      "On epoch 347 / 500\n",
      "On epoch 348 / 500\n",
      "On epoch 349 / 500\n",
      "On epoch 350 / 500\n",
      "On epoch 351 / 500\n",
      "On epoch 352 / 500\n",
      "On epoch 353 / 500\n",
      "On epoch 354 / 500\n",
      "On epoch 355 / 500\n",
      "On epoch 356 / 500\n",
      "On epoch 357 / 500\n",
      "On epoch 358 / 500\n",
      "On epoch 359 / 500\n",
      "On epoch 360 / 500\n",
      "On epoch 361 / 500\n",
      "On epoch 362 / 500\n",
      "On epoch 363 / 500\n",
      "On epoch 364 / 500\n",
      "On epoch 365 / 500\n",
      "On epoch 366 / 500\n",
      "On epoch 367 / 500\n",
      "On epoch 368 / 500\n",
      "On epoch 369 / 500\n",
      "On epoch 370 / 500\n",
      "On epoch 371 / 500\n",
      "On epoch 372 / 500\n",
      "On epoch 373 / 500\n",
      "On epoch 374 / 500\n",
      "On epoch 375 / 500\n",
      "On epoch 376 / 500\n",
      "On epoch 377 / 500\n",
      "On epoch 378 / 500\n",
      "On epoch 379 / 500\n",
      "On epoch 380 / 500\n",
      "On epoch 381 / 500\n",
      "On epoch 382 / 500\n",
      "On epoch 383 / 500\n",
      "On epoch 384 / 500\n",
      "On epoch 385 / 500\n",
      "On epoch 386 / 500\n",
      "On epoch 387 / 500\n",
      "On epoch 388 / 500\n",
      "On epoch 389 / 500\n",
      "On epoch 390 / 500\n",
      "On epoch 391 / 500\n",
      "On epoch 392 / 500\n",
      "On epoch 393 / 500\n",
      "On epoch 394 / 500\n",
      "On epoch 395 / 500\n",
      "On epoch 396 / 500\n",
      "On epoch 397 / 500\n",
      "On epoch 398 / 500\n",
      "On epoch 399 / 500\n",
      "On epoch 400 / 500\n",
      "On epoch 401 / 500\n",
      "On epoch 402 / 500\n",
      "On epoch 403 / 500\n",
      "On epoch 404 / 500\n",
      "On epoch 405 / 500\n",
      "On epoch 406 / 500\n",
      "On epoch 407 / 500\n",
      "On epoch 408 / 500\n",
      "On epoch 409 / 500\n",
      "On epoch 410 / 500\n",
      "On epoch 411 / 500\n",
      "On epoch 412 / 500\n",
      "On epoch 413 / 500\n",
      "On epoch 414 / 500\n",
      "On epoch 415 / 500\n",
      "On epoch 416 / 500\n",
      "On epoch 417 / 500\n",
      "On epoch 418 / 500\n",
      "On epoch 419 / 500\n",
      "On epoch 420 / 500\n",
      "On epoch 421 / 500\n",
      "On epoch 422 / 500\n",
      "On epoch 423 / 500\n",
      "On epoch 424 / 500\n",
      "On epoch 425 / 500\n",
      "On epoch 426 / 500\n",
      "On epoch 427 / 500\n",
      "On epoch 428 / 500\n",
      "On epoch 429 / 500\n",
      "On epoch 430 / 500\n",
      "On epoch 431 / 500\n",
      "On epoch 432 / 500\n",
      "On epoch 433 / 500\n",
      "On epoch 434 / 500\n",
      "On epoch 435 / 500\n",
      "On epoch 436 / 500\n",
      "On epoch 437 / 500\n",
      "On epoch 438 / 500\n",
      "On epoch 439 / 500\n",
      "On epoch 440 / 500\n",
      "On epoch 441 / 500\n",
      "On epoch 442 / 500\n",
      "On epoch 443 / 500\n",
      "On epoch 444 / 500\n",
      "On epoch 445 / 500\n",
      "On epoch 446 / 500\n",
      "On epoch 447 / 500\n",
      "On epoch 448 / 500\n",
      "On epoch 449 / 500\n",
      "On epoch 450 / 500\n",
      "On epoch 451 / 500\n",
      "On epoch 452 / 500\n",
      "On epoch 453 / 500\n",
      "On epoch 454 / 500\n",
      "On epoch 455 / 500\n",
      "On epoch 456 / 500\n",
      "On epoch 457 / 500\n",
      "On epoch 458 / 500\n",
      "On epoch 459 / 500\n",
      "On epoch 460 / 500\n",
      "On epoch 461 / 500\n",
      "On epoch 462 / 500\n",
      "On epoch 463 / 500\n",
      "On epoch 464 / 500\n",
      "On epoch 465 / 500\n",
      "On epoch 466 / 500\n",
      "On epoch 467 / 500\n",
      "On epoch 468 / 500\n",
      "On epoch 469 / 500\n",
      "On epoch 470 / 500\n",
      "On epoch 471 / 500\n",
      "On epoch 472 / 500\n",
      "On epoch 473 / 500\n",
      "On epoch 474 / 500\n",
      "On epoch 475 / 500\n",
      "On epoch 476 / 500\n",
      "On epoch 477 / 500\n",
      "On epoch 478 / 500\n",
      "On epoch 479 / 500\n",
      "On epoch 480 / 500\n",
      "On epoch 481 / 500\n",
      "On epoch 482 / 500\n",
      "On epoch 483 / 500\n",
      "On epoch 484 / 500\n",
      "On epoch 485 / 500\n",
      "On epoch 486 / 500\n",
      "On epoch 487 / 500\n",
      "On epoch 488 / 500\n",
      "On epoch 489 / 500\n",
      "On epoch 490 / 500\n",
      "On epoch 491 / 500\n",
      "On epoch 492 / 500\n",
      "On epoch 493 / 500\n",
      "On epoch 494 / 500\n",
      "On epoch 495 / 500\n",
      "On epoch 496 / 500\n",
      "On epoch 497 / 500\n",
      "On epoch 498 / 500\n",
      "On epoch 499 / 500\n"
     ]
    }
   ],
   "source": [
    "with tf.Session() as sess:\n",
    "    sess.run(init)\n",
    "    \n",
    "    for i in range(epochs):\n",
    "        for j in range(n_batches):\n",
    "            X_batch = X_train[j*batch_sz : (j+1)*batch_sz]\n",
    "            \n",
    "            # genearte fake images\n",
    "            batch_z = np.random.uniform(-1, 1, size=(batch_sz, nz))\n",
    "            \n",
    "            # run optimizer, not saving any ouput\n",
    "            sess.run(D_trainer, feed_dict={real_images:X_batch, z:batch_z})\n",
    "            # \n",
    "            sess.run(G_trainer, feed_dict={z: batch_z})\n",
    "            \n",
    "        print(f\"On epoch {i} / {epochs}\")\n",
    "        \n",
    "        # get a sample from generator when training\n",
    "        random_z = np.random.uniform(-1, 1, size=(1, nz))\n",
    "        sample_img = sess.run(generator(z, reuse=True), feed_dict={z: random_z})\n",
    "        \n",
    "        samples.append(sample_img)\n",
    "        saver.save(sess, './models/500_epoch_model.ckpt')"
   ]
  },
  {
   "cell_type": "code",
   "execution_count": 30,
   "id": "hidden-kitty",
   "metadata": {},
   "outputs": [],
   "source": [
    "import matplotlib.cm as cm"
   ]
  },
  {
   "cell_type": "code",
   "execution_count": 1,
   "id": "reduced-removal",
   "metadata": {},
   "outputs": [],
   "source": [
    "# # Compare original images with their reconstructions\n",
    "# c = 5\n",
    "# r = epochs // c\n",
    "# # r  = 1\n",
    "\n",
    "# f, axarr = plt.subplots(r, c, figsize=(15, 3 * r))\n",
    "# # print(axarr.shape)\n",
    "# for i in range(r):\n",
    "#     for j in range(c):\n",
    "#         idx = i*c + j\n",
    "#         img = (samples[i*c + j] + 0.5) * 255\n",
    "#         img = img.reshape(28, -1)\n",
    "#         axarr[i,j].imshow(img, cmap=\"Greys\", aspect=1)\n",
    "#         axarr[i,j].axis('off')\n"
   ]
  },
  {
   "cell_type": "code",
   "execution_count": 32,
   "id": "wireless-history",
   "metadata": {},
   "outputs": [],
   "source": [
    "# saver = tf.train.Saver(var_list=g_vars)"
   ]
  },
  {
   "cell_type": "code",
   "execution_count": 38,
   "id": "authentic-tanzania",
   "metadata": {},
   "outputs": [
    {
     "name": "stdout",
     "output_type": "stream",
     "text": [
      "INFO:tensorflow:Restoring parameters from ./models/500_epoch_model.ckpt\n"
     ]
    }
   ],
   "source": [
    "new_samples = []\n",
    "n_new_samples = 30\n",
    "\n",
    "with tf.Session() as sess:\n",
    "    \n",
    "    saver.restore(sess,'./models/500_epoch_model.ckpt')\n",
    "    \n",
    "    for x in range(n_new_samples):\n",
    "        sample_z = np.random.uniform(-1,1,size=(1,100))\n",
    "        gen_sample = sess.run(generator(z,reuse=True),feed_dict={z:sample_z})\n",
    "        \n",
    "        new_samples.append(gen_sample)"
   ]
  },
  {
   "cell_type": "code",
   "execution_count": 39,
   "id": "underlying-cliff",
   "metadata": {},
   "outputs": [
    {
     "data": {
      "image/png": "[encoded data removed]",
      "text/plain": [
       "<Figure size 1080x1296 with 30 Axes>"
      ]
     },
     "metadata": {
      "needs_background": "light"
     },
     "output_type": "display_data"
    }
   ],
   "source": [
    "# Compare original images with their reconstructions\n",
    "c = 5\n",
    "r = n_new_samples // c\n",
    "\n",
    "f, axarr = plt.subplots(r, c, figsize=(15, 3 * r))\n",
    "# print(axarr.shape)\n",
    "for i in range(r):\n",
    "    for j in range(c):\n",
    "        idx = i*c + j\n",
    "        img = (new_samples[i*c + j] + 0.5) * 255\n",
    "        img = img.reshape(28, -1)\n",
    "        axarr[i,j].imshow(img, cmap=\"gray\", aspect=1)\n",
    "        axarr[i,j].axis('off')"
   ]
  },
  {
   "cell_type": "code",
   "execution_count": null,
   "id": "disabled-spyware",
   "metadata": {},
   "outputs": [],
   "source": []
  }
 ],
 "metadata": {
  "kernelspec": {
   "display_name": "Python 3",
   "language": "python",
   "name": "python3"
  },
  "language_info": {
   "codemirror_mode": {
    "name": "ipython",
    "version": 3
   },
   "file_extension": ".py",
   "mimetype": "text/x-python",
   "name": "python",
   "nbconvert_exporter": "python",
   "pygments_lexer": "ipython3",
   "version": "3.7.3"
  }
 },
 "nbformat": 4,
 "nbformat_minor": 5
}
